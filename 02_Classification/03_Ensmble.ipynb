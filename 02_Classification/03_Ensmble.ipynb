{
 "cells": [
  {
   "cell_type": "code",
   "execution_count": 57,
   "metadata": {},
   "outputs": [],
   "source": [
    "import pandas as pd"
   ]
  },
  {
   "cell_type": "markdown",
   "metadata": {},
   "source": [
    "# 앙상블 학습"
   ]
  },
  {
   "cell_type": "code",
   "execution_count": 32,
   "metadata": {},
   "outputs": [],
   "source": [
    "from sklearn.datasets import load_breast_cancer\r\n",
    "cancer = load_breast_cancer()"
   ]
  },
  {
   "cell_type": "code",
   "execution_count": 58,
   "metadata": {},
   "outputs": [
    {
     "data": {
      "text/html": [
       "<div>\n",
       "<style scoped>\n",
       "    .dataframe tbody tr th:only-of-type {\n",
       "        vertical-align: middle;\n",
       "    }\n",
       "\n",
       "    .dataframe tbody tr th {\n",
       "        vertical-align: top;\n",
       "    }\n",
       "\n",
       "    .dataframe thead th {\n",
       "        text-align: right;\n",
       "    }\n",
       "</style>\n",
       "<table border=\"1\" class=\"dataframe\">\n",
       "  <thead>\n",
       "    <tr style=\"text-align: right;\">\n",
       "      <th></th>\n",
       "      <th>mean radius</th>\n",
       "      <th>mean texture</th>\n",
       "      <th>mean perimeter</th>\n",
       "      <th>mean area</th>\n",
       "      <th>mean smoothness</th>\n",
       "      <th>mean compactness</th>\n",
       "      <th>mean concavity</th>\n",
       "      <th>mean concave points</th>\n",
       "      <th>mean symmetry</th>\n",
       "      <th>mean fractal dimension</th>\n",
       "      <th>...</th>\n",
       "      <th>worst radius</th>\n",
       "      <th>worst texture</th>\n",
       "      <th>worst perimeter</th>\n",
       "      <th>worst area</th>\n",
       "      <th>worst smoothness</th>\n",
       "      <th>worst compactness</th>\n",
       "      <th>worst concavity</th>\n",
       "      <th>worst concave points</th>\n",
       "      <th>worst symmetry</th>\n",
       "      <th>worst fractal dimension</th>\n",
       "    </tr>\n",
       "  </thead>\n",
       "  <tbody>\n",
       "    <tr>\n",
       "      <th>0</th>\n",
       "      <td>17.99</td>\n",
       "      <td>10.38</td>\n",
       "      <td>122.80</td>\n",
       "      <td>1001.0</td>\n",
       "      <td>0.11840</td>\n",
       "      <td>0.27760</td>\n",
       "      <td>0.3001</td>\n",
       "      <td>0.14710</td>\n",
       "      <td>0.2419</td>\n",
       "      <td>0.07871</td>\n",
       "      <td>...</td>\n",
       "      <td>25.38</td>\n",
       "      <td>17.33</td>\n",
       "      <td>184.60</td>\n",
       "      <td>2019.0</td>\n",
       "      <td>0.1622</td>\n",
       "      <td>0.6656</td>\n",
       "      <td>0.7119</td>\n",
       "      <td>0.2654</td>\n",
       "      <td>0.4601</td>\n",
       "      <td>0.11890</td>\n",
       "    </tr>\n",
       "    <tr>\n",
       "      <th>1</th>\n",
       "      <td>20.57</td>\n",
       "      <td>17.77</td>\n",
       "      <td>132.90</td>\n",
       "      <td>1326.0</td>\n",
       "      <td>0.08474</td>\n",
       "      <td>0.07864</td>\n",
       "      <td>0.0869</td>\n",
       "      <td>0.07017</td>\n",
       "      <td>0.1812</td>\n",
       "      <td>0.05667</td>\n",
       "      <td>...</td>\n",
       "      <td>24.99</td>\n",
       "      <td>23.41</td>\n",
       "      <td>158.80</td>\n",
       "      <td>1956.0</td>\n",
       "      <td>0.1238</td>\n",
       "      <td>0.1866</td>\n",
       "      <td>0.2416</td>\n",
       "      <td>0.1860</td>\n",
       "      <td>0.2750</td>\n",
       "      <td>0.08902</td>\n",
       "    </tr>\n",
       "    <tr>\n",
       "      <th>2</th>\n",
       "      <td>19.69</td>\n",
       "      <td>21.25</td>\n",
       "      <td>130.00</td>\n",
       "      <td>1203.0</td>\n",
       "      <td>0.10960</td>\n",
       "      <td>0.15990</td>\n",
       "      <td>0.1974</td>\n",
       "      <td>0.12790</td>\n",
       "      <td>0.2069</td>\n",
       "      <td>0.05999</td>\n",
       "      <td>...</td>\n",
       "      <td>23.57</td>\n",
       "      <td>25.53</td>\n",
       "      <td>152.50</td>\n",
       "      <td>1709.0</td>\n",
       "      <td>0.1444</td>\n",
       "      <td>0.4245</td>\n",
       "      <td>0.4504</td>\n",
       "      <td>0.2430</td>\n",
       "      <td>0.3613</td>\n",
       "      <td>0.08758</td>\n",
       "    </tr>\n",
       "    <tr>\n",
       "      <th>3</th>\n",
       "      <td>11.42</td>\n",
       "      <td>20.38</td>\n",
       "      <td>77.58</td>\n",
       "      <td>386.1</td>\n",
       "      <td>0.14250</td>\n",
       "      <td>0.28390</td>\n",
       "      <td>0.2414</td>\n",
       "      <td>0.10520</td>\n",
       "      <td>0.2597</td>\n",
       "      <td>0.09744</td>\n",
       "      <td>...</td>\n",
       "      <td>14.91</td>\n",
       "      <td>26.50</td>\n",
       "      <td>98.87</td>\n",
       "      <td>567.7</td>\n",
       "      <td>0.2098</td>\n",
       "      <td>0.8663</td>\n",
       "      <td>0.6869</td>\n",
       "      <td>0.2575</td>\n",
       "      <td>0.6638</td>\n",
       "      <td>0.17300</td>\n",
       "    </tr>\n",
       "    <tr>\n",
       "      <th>4</th>\n",
       "      <td>20.29</td>\n",
       "      <td>14.34</td>\n",
       "      <td>135.10</td>\n",
       "      <td>1297.0</td>\n",
       "      <td>0.10030</td>\n",
       "      <td>0.13280</td>\n",
       "      <td>0.1980</td>\n",
       "      <td>0.10430</td>\n",
       "      <td>0.1809</td>\n",
       "      <td>0.05883</td>\n",
       "      <td>...</td>\n",
       "      <td>22.54</td>\n",
       "      <td>16.67</td>\n",
       "      <td>152.20</td>\n",
       "      <td>1575.0</td>\n",
       "      <td>0.1374</td>\n",
       "      <td>0.2050</td>\n",
       "      <td>0.4000</td>\n",
       "      <td>0.1625</td>\n",
       "      <td>0.2364</td>\n",
       "      <td>0.07678</td>\n",
       "    </tr>\n",
       "  </tbody>\n",
       "</table>\n",
       "<p>5 rows × 30 columns</p>\n",
       "</div>"
      ],
      "text/plain": [
       "   mean radius  mean texture  mean perimeter  mean area  mean smoothness  \\\n",
       "0        17.99         10.38          122.80     1001.0          0.11840   \n",
       "1        20.57         17.77          132.90     1326.0          0.08474   \n",
       "2        19.69         21.25          130.00     1203.0          0.10960   \n",
       "3        11.42         20.38           77.58      386.1          0.14250   \n",
       "4        20.29         14.34          135.10     1297.0          0.10030   \n",
       "\n",
       "   mean compactness  mean concavity  mean concave points  mean symmetry  \\\n",
       "0           0.27760          0.3001              0.14710         0.2419   \n",
       "1           0.07864          0.0869              0.07017         0.1812   \n",
       "2           0.15990          0.1974              0.12790         0.2069   \n",
       "3           0.28390          0.2414              0.10520         0.2597   \n",
       "4           0.13280          0.1980              0.10430         0.1809   \n",
       "\n",
       "   mean fractal dimension  ...  worst radius  worst texture  worst perimeter  \\\n",
       "0                 0.07871  ...         25.38          17.33           184.60   \n",
       "1                 0.05667  ...         24.99          23.41           158.80   \n",
       "2                 0.05999  ...         23.57          25.53           152.50   \n",
       "3                 0.09744  ...         14.91          26.50            98.87   \n",
       "4                 0.05883  ...         22.54          16.67           152.20   \n",
       "\n",
       "   worst area  worst smoothness  worst compactness  worst concavity  \\\n",
       "0      2019.0            0.1622             0.6656           0.7119   \n",
       "1      1956.0            0.1238             0.1866           0.2416   \n",
       "2      1709.0            0.1444             0.4245           0.4504   \n",
       "3       567.7            0.2098             0.8663           0.6869   \n",
       "4      1575.0            0.1374             0.2050           0.4000   \n",
       "\n",
       "   worst concave points  worst symmetry  worst fractal dimension  \n",
       "0                0.2654          0.4601                  0.11890  \n",
       "1                0.1860          0.2750                  0.08902  \n",
       "2                0.2430          0.3613                  0.08758  \n",
       "3                0.2575          0.6638                  0.17300  \n",
       "4                0.1625          0.2364                  0.07678  \n",
       "\n",
       "[5 rows x 30 columns]"
      ]
     },
     "execution_count": 58,
     "metadata": {},
     "output_type": "execute_result"
    }
   ],
   "source": [
    "df = pd.DataFrame(cancer.data, columns = cancer.feature_names)\r\n",
    "df.head()  # 스케일링 필요함"
   ]
  },
  {
   "cell_type": "code",
   "execution_count": 33,
   "metadata": {},
   "outputs": [],
   "source": [
    "from sklearn.preprocessing import MinMaxScaler  # 스케일링 \r\n",
    "scaler = MinMaxScaler()\r\n",
    "cancer_scaled = scaler.fit_transform(cancer.data)"
   ]
  },
  {
   "cell_type": "code",
   "execution_count": 46,
   "metadata": {},
   "outputs": [
    {
     "data": {
      "text/plain": [
       "((455, 30), (114, 30), (455,), (114,))"
      ]
     },
     "execution_count": 46,
     "metadata": {},
     "output_type": "execute_result"
    }
   ],
   "source": [
    "from sklearn.model_selection import train_test_split\r\n",
    "\r\n",
    "X_train, X_test, y_train, y_test = train_test_split(\r\n",
    "    cancer_scaled, cancer.target, stratify= cancer.target,  test_size= 0.2, random_state= 2011\r\n",
    "\r\n",
    ")\r\n",
    "X_train.shape, X_test.shape, y_train.shape, y_test.shape"
   ]
  },
  {
   "cell_type": "markdown",
   "metadata": {},
   "source": [
    "## 앙상블 학습을 위한 분류기\r\n",
    "\r\n",
    "#### 로지스틱 회귀\r\n",
    "#### 서포트 벡터 머신\r\n",
    "#### k 최근접 이웃"
   ]
  },
  {
   "cell_type": "code",
   "execution_count": 47,
   "metadata": {},
   "outputs": [],
   "source": [
    "from sklearn.linear_model import LogisticRegression\r\n",
    "from sklearn.svm import SVC\r\n",
    "from sklearn.neighbors import KNeighborsClassifier"
   ]
  },
  {
   "cell_type": "code",
   "execution_count": 48,
   "metadata": {},
   "outputs": [],
   "source": [
    "lr = LogisticRegression()\r\n",
    "svc = SVC()\r\n",
    "knn = KNeighborsClassifier()"
   ]
  },
  {
   "cell_type": "code",
   "execution_count": 49,
   "metadata": {},
   "outputs": [],
   "source": [
    "from sklearn.ensemble import VotingClassifier\r\n",
    "\r\n",
    "vo_clf = VotingClassifier(\r\n",
    "    estimators = [('LR',lr), ('SVC',svc), ('KNN',knn)], \r\n",
    "    voting = 'hard'\r\n",
    ")"
   ]
  },
  {
   "cell_type": "code",
   "execution_count": 50,
   "metadata": {},
   "outputs": [],
   "source": [
    "vo_clf.fit(X_train, y_train)\r\n",
    "pred = vo_clf.predict(X_test)"
   ]
  },
  {
   "cell_type": "code",
   "execution_count": 51,
   "metadata": {},
   "outputs": [
    {
     "data": {
      "text/plain": [
       "0.956140350877193"
      ]
     },
     "execution_count": 51,
     "metadata": {},
     "output_type": "execute_result"
    }
   ],
   "source": [
    "from sklearn.metrics import accuracy_score\r\n",
    "accuracy_score(y_test,pred)"
   ]
  },
  {
   "cell_type": "markdown",
   "metadata": {},
   "source": [
    "## 개별 모델의 학습 / 예측 / 평가"
   ]
  },
  {
   "cell_type": "code",
   "execution_count": 52,
   "metadata": {},
   "outputs": [
    {
     "name": "stdout",
     "output_type": "stream",
     "text": [
      "LogisticRegression 정확도 0.9386\n",
      "SVC 정확도 0.9649\n",
      "KNeighborsClassifier 정확도 0.9561\n"
     ]
    }
   ],
   "source": [
    "for classifier in [lr, svc, knn]:\r\n",
    "    classifier.fit(X_train, y_train)\r\n",
    "    pred = classifier.predict(X_test)\r\n",
    "    acc = accuracy_score(y_test, pred)\r\n",
    "    classifier_name = classifier.__class__.__name__\r\n",
    "    print(f'{classifier_name} 정확도{acc : .4f}')"
   ]
  },
  {
   "cell_type": "markdown",
   "metadata": {},
   "source": [
    "## 소프트 보팅\r\n",
    " ### - 로지스틱 회귀\r\n",
    " ### - k 최근접 이웃"
   ]
  },
  {
   "cell_type": "code",
   "execution_count": 54,
   "metadata": {},
   "outputs": [
    {
     "data": {
      "text/plain": [
       "0.956140350877193"
      ]
     },
     "execution_count": 54,
     "metadata": {},
     "output_type": "execute_result"
    }
   ],
   "source": [
    "vo_clf = VotingClassifier(\r\n",
    "    estimators = [('LR',lr), ('KNN',knn)], \r\n",
    "    voting = 'soft'\r\n",
    ")\r\n",
    "vo_clf.fit(X_train,y_train)\r\n",
    "pred = vo_clf.predict(X_test)\r\n",
    "accuracy_score(y_test, pred)"
   ]
  },
  {
   "cell_type": "code",
   "execution_count": 55,
   "metadata": {},
   "outputs": [
    {
     "data": {
      "text/plain": [
       "array([[9.93299003e-01, 6.70099726e-03],\n",
       "       [9.97860114e-01, 2.13988594e-03],\n",
       "       [1.55035222e-02, 9.84496478e-01],\n",
       "       [2.11048802e-02, 9.78895120e-01],\n",
       "       [9.74826742e-01, 2.51732577e-02],\n",
       "       [1.18101174e-01, 8.81898826e-01],\n",
       "       [1.83346646e-02, 9.81665335e-01],\n",
       "       [1.72260326e-03, 9.98277397e-01],\n",
       "       [4.17790994e-02, 9.58220901e-01],\n",
       "       [4.57872746e-02, 9.54212725e-01],\n",
       "       [2.50799952e-02, 9.74920005e-01],\n",
       "       [2.98787609e-02, 9.70121239e-01],\n",
       "       [2.25234183e-03, 9.97747658e-01],\n",
       "       [7.50971304e-01, 2.49028696e-01],\n",
       "       [9.21979440e-03, 9.90780206e-01],\n",
       "       [9.83839355e-01, 1.61606449e-02],\n",
       "       [2.83304790e-03, 9.97166952e-01],\n",
       "       [1.06895121e-01, 8.93104879e-01],\n",
       "       [6.41086893e-01, 3.58913107e-01],\n",
       "       [1.63905669e-02, 9.83609433e-01],\n",
       "       [9.52456926e-01, 4.75430742e-02],\n",
       "       [6.88063781e-01, 3.11936219e-01],\n",
       "       [9.98353441e-01, 1.64655883e-03],\n",
       "       [2.82023149e-01, 7.17976851e-01],\n",
       "       [1.40217651e-02, 9.85978235e-01],\n",
       "       [2.68956392e-02, 9.73104361e-01],\n",
       "       [2.03611323e-01, 7.96388677e-01],\n",
       "       [6.99116442e-04, 9.99300884e-01],\n",
       "       [9.99939121e-01, 6.08786095e-05],\n",
       "       [2.64896418e-03, 9.97351036e-01],\n",
       "       [2.36901818e-02, 9.76309818e-01],\n",
       "       [4.04567406e-03, 9.95954326e-01],\n",
       "       [2.46891939e-02, 9.75310806e-01],\n",
       "       [9.99657326e-01, 3.42674312e-04],\n",
       "       [6.96622136e-02, 9.30337786e-01],\n",
       "       [2.59340512e-02, 9.74065949e-01],\n",
       "       [2.27326228e-01, 7.72673772e-01],\n",
       "       [8.65664574e-01, 1.34335426e-01],\n",
       "       [9.17509836e-03, 9.90824902e-01],\n",
       "       [3.83861605e-02, 9.61613839e-01],\n",
       "       [8.11297936e-04, 9.99188702e-01],\n",
       "       [3.03329719e-02, 9.69667028e-01],\n",
       "       [8.90457370e-01, 1.09542630e-01],\n",
       "       [3.42767187e-03, 9.96572328e-01],\n",
       "       [9.99896117e-01, 1.03883308e-04],\n",
       "       [8.99824604e-01, 1.00175396e-01],\n",
       "       [1.42270945e-01, 8.57729055e-01],\n",
       "       [1.10060482e-02, 9.88993952e-01],\n",
       "       [9.33321484e-01, 6.66785159e-02],\n",
       "       [9.99122977e-01, 8.77023377e-04],\n",
       "       [1.33088358e-01, 8.66911642e-01],\n",
       "       [1.37011901e-03, 9.98629881e-01],\n",
       "       [9.97170928e-01, 2.82907249e-03],\n",
       "       [9.55665048e-01, 4.43349517e-02],\n",
       "       [5.37916802e-01, 4.62083198e-01],\n",
       "       [6.82973471e-02, 9.31702653e-01],\n",
       "       [1.20451850e-01, 8.79548150e-01],\n",
       "       [3.00410990e-01, 6.99589010e-01],\n",
       "       [3.17567888e-03, 9.96824321e-01],\n",
       "       [1.84398308e-01, 8.15601692e-01],\n",
       "       [3.85191675e-03, 9.96148083e-01],\n",
       "       [9.88125996e-01, 1.18740040e-02],\n",
       "       [6.05366975e-03, 9.93946330e-01],\n",
       "       [9.97653455e-01, 2.34654523e-03],\n",
       "       [9.94243846e-01, 5.75615392e-03],\n",
       "       [4.56683044e-02, 9.54331696e-01],\n",
       "       [5.71557207e-03, 9.94284428e-01],\n",
       "       [2.23779880e-02, 9.77622012e-01],\n",
       "       [1.61468617e-02, 9.83853138e-01],\n",
       "       [1.82567371e-02, 9.81743263e-01],\n",
       "       [9.99285102e-01, 7.14898279e-04],\n",
       "       [4.22270734e-02, 9.57772927e-01],\n",
       "       [9.86799347e-01, 1.32006526e-02],\n",
       "       [1.53663222e-01, 8.46336778e-01],\n",
       "       [9.97292100e-01, 2.70790018e-03],\n",
       "       [2.06753865e-01, 7.93246135e-01],\n",
       "       [8.88992085e-02, 9.11100792e-01],\n",
       "       [1.05841229e-01, 8.94158771e-01],\n",
       "       [3.68471727e-03, 9.96315283e-01],\n",
       "       [9.96055424e-01, 3.94457610e-03],\n",
       "       [9.87765675e-01, 1.22343246e-02],\n",
       "       [9.94639399e-01, 5.36060056e-03],\n",
       "       [2.05832875e-02, 9.79416713e-01],\n",
       "       [2.81053240e-02, 9.71894676e-01],\n",
       "       [8.09243870e-03, 9.91907561e-01],\n",
       "       [4.21261684e-02, 9.57873832e-01],\n",
       "       [2.71104264e-02, 9.72889574e-01],\n",
       "       [8.74644555e-02, 9.12535544e-01],\n",
       "       [1.02338119e-01, 8.97661881e-01],\n",
       "       [2.01543043e-02, 9.79845696e-01],\n",
       "       [1.61081117e-02, 9.83891888e-01],\n",
       "       [9.89253669e-01, 1.07463309e-02],\n",
       "       [7.14193046e-02, 9.28580695e-01],\n",
       "       [4.06606198e-01, 5.93393802e-01],\n",
       "       [2.30959947e-02, 9.76904005e-01],\n",
       "       [7.96516837e-01, 2.03483163e-01],\n",
       "       [1.05088266e-02, 9.89491173e-01],\n",
       "       [2.49309158e-02, 9.75069084e-01],\n",
       "       [4.43465519e-03, 9.95565345e-01],\n",
       "       [9.51942463e-01, 4.80575367e-02],\n",
       "       [1.00505506e-02, 9.89949449e-01],\n",
       "       [6.81246625e-01, 3.18753375e-01],\n",
       "       [3.74391082e-02, 9.62560892e-01],\n",
       "       [4.50740826e-03, 9.95492592e-01],\n",
       "       [2.40346194e-01, 7.59653806e-01],\n",
       "       [8.11789249e-01, 1.88210751e-01],\n",
       "       [9.99989866e-01, 1.01340556e-05],\n",
       "       [2.40248848e-02, 9.75975115e-01],\n",
       "       [3.15748250e-02, 9.68425175e-01],\n",
       "       [9.97393622e-01, 2.60637752e-03],\n",
       "       [1.64254430e-01, 8.35745570e-01],\n",
       "       [2.13701211e-02, 9.78629879e-01],\n",
       "       [1.16642425e-02, 9.88335758e-01],\n",
       "       [9.99910827e-01, 8.91728827e-05]])"
      ]
     },
     "execution_count": 55,
     "metadata": {},
     "output_type": "execute_result"
    }
   ],
   "source": [
    "vo_clf.predict_proba(X_test)"
   ]
  }
 ],
 "metadata": {
  "interpreter": {
   "hash": "8c1eae21719a0790335dcb83aad72b63b602cfe5cdb2bda0f60bc11d4f154e4b"
  },
  "kernelspec": {
   "display_name": "Python 3.8.5 64-bit ('base': conda)",
   "name": "python3"
  },
  "language_info": {
   "codemirror_mode": {
    "name": "ipython",
    "version": 3
   },
   "file_extension": ".py",
   "mimetype": "text/x-python",
   "name": "python",
   "nbconvert_exporter": "python",
   "pygments_lexer": "ipython3",
   "version": "3.8.5"
  },
  "orig_nbformat": 4
 },
 "nbformat": 4,
 "nbformat_minor": 2
}